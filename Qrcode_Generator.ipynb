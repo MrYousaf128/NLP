{
  "nbformat": 4,
  "nbformat_minor": 0,
  "metadata": {
    "colab": {
      "provenance": [],
      "authorship_tag": "ABX9TyPnPmnfzwXsyrMDQuIi3btj",
      "include_colab_link": true
    },
    "kernelspec": {
      "name": "python3",
      "display_name": "Python 3"
    },
    "language_info": {
      "name": "python"
    }
  },
  "cells": [
    {
      "cell_type": "markdown",
      "metadata": {
        "id": "view-in-github",
        "colab_type": "text"
      },
      "source": [
        "<a href=\"https://colab.research.google.com/github/MrYousaf128/NLP/blob/main/Qrcode_Generator.ipynb\" target=\"_parent\"><img src=\"https://colab.research.google.com/assets/colab-badge.svg\" alt=\"Open In Colab\"/></a>"
      ]
    },
    {
      "cell_type": "code",
      "source": [
        "#inputs for Multilayer preceptron\n",
        "\n",
        "x1 = 0.4\n",
        "x2 = 0.5\n",
        "x3 = 0.7\n",
        "x4 = 0.2\n",
        "\n",
        "#weights for input 1\n",
        "w1 = 0.3\n",
        "w2 = 0.5\n",
        "w3 = 0.9\n",
        "w4 = 0.1\n",
        "w5 = 0.2\n",
        "\n",
        "#weghts for 2 input\n",
        "\n",
        "w6 = 0.1\n",
        "w7 = 0.4\n",
        "w8 = 1\n",
        "w9 = 0.1\n",
        "w10 =2\n",
        "\n",
        " #weights for 3rd input\n",
        "\n",
        "w11 = 0.5\n",
        "w12 = 0.4\n",
        "w13 = 0.3\n",
        "w14 = 0.2\n",
        "w15 = 1\n",
        "\n",
        " #weights for 4th output\n",
        "\n",
        "w16 = 1\n",
        "w17 = 0.3\n",
        "w18 = 0.2\n",
        "w19 = 0.5\n",
        "w20 = 0.7\n",
        "\n",
        "l1_re1= (x1*w1)+(x2*w6)+(x3*w11)+(x4*w16)\n",
        "print(l1_re1)\n",
        "\n",
        "l1_re2 = (x1*w2)+(x2*w7)+(x3*w12)+(x4*w17)\n",
        "print(l1_re2)\n",
        "\n",
        "l1_re3 = (x1*w3)+(x2*w8)+(x3*w13)+(x4*w18)\n",
        "print(l1_re3)\n",
        "\n",
        "l1_re4 = (x1*w4)+(x2*w9)+(x3*w14)+(x4*w19)\n",
        "print(l1_re4)\n",
        "\n",
        "l1_re5 = (x1*w5)+(x2*w10)+(x3*w15)+(x4*w20)\n",
        "\n",
        "print(l1_re5)\n",
        "\n",
        "\n",
        "\n",
        "\n",
        "\n"
      ],
      "metadata": {
        "colab": {
          "base_uri": "https://localhost:8080/"
        },
        "id": "sJyAVY2DPRO4",
        "outputId": "05c042ce-cd57-4407-f049-49c6a4bbde8f"
      },
      "execution_count": null,
      "outputs": [
        {
          "output_type": "stream",
          "name": "stdout",
          "text": [
            "0.72\n",
            "0.74\n",
            "1.11\n",
            "0.32999999999999996\n",
            "1.92\n"
          ]
        }
      ]
    },
    {
      "cell_type": "code",
      "source": [
        "#input weights for 2nd hidden layer\n",
        "\n",
        "w21 = 0.1\n",
        "w22 = 0.3\n",
        "w23 = 0.1\n",
        "w24 = 0.6\n",
        "w25 = 0.8\n",
        "\n",
        "#input weights\n",
        "\n",
        "w26 = 1\n",
        "w27 = 0.3\n",
        "w28 = 2\n",
        "w29 = 0.5\n",
        "w30 = 0.4\n",
        "\n",
        "#input weigts\n",
        "\n",
        "w31= 0.9\n",
        "w32 = 1\n",
        "w33 = 0.5\n",
        "w34 = 1\n",
        "w35 = 0.7\n",
        "\n",
        "#input for next\n",
        "\n",
        "w36= 0.4\n",
        "w37= 0.8\n",
        "w38= 0.5\n",
        "w39= 0.1\n",
        "w40= 0.2\n",
        "\n",
        "#inputs weihts for 5th neuron\n",
        "\n",
        "w41= 0.3\n",
        "w42= 0.4\n",
        "w43= 0.1\n",
        "w44= 0.3\n",
        "w45= 0.6\n",
        "\n",
        "\n",
        "l2_re1=(l1_re1*w21)+(l1_re2*w26)+(l1_re3*w31)+(l1_re4*w36)+(l1_re5*w41)\n",
        "print(l2_re1)\n",
        "\n",
        "l2_re2 = (l1_re1*w22)+(l1_re2*w27)+(l1_re3*w32)+(l1_re4*w37)+(l1_re5*w42)\n",
        "print(l2_re2)\n",
        "\n",
        "l2_re3 = (l1_re1*w23)+(l1_re2*w28)+(l1_re3*w33)+(l1_re4*w38)+(l1_re5*w43)\n",
        "print(l2_re3)\n",
        "\n",
        "l2_re4 = (l1_re1*w24)+(l1_re2*w29)+(l1_re3*w34)+(l1_re4*w39)+(l1_re5*w44)\n",
        "print(l2_re4)\n",
        "\n",
        "l2_re5 = (l1_re1*w25)+(l1_re2*w30)+(l1_re3*w35)+(l1_re4*w40)+(l1_re5*w45)\n",
        "print(l2_re5)\n"
      ],
      "metadata": {
        "colab": {
          "base_uri": "https://localhost:8080/"
        },
        "id": "YbkK7ikda5GF",
        "outputId": "cf8a1df5-5902-4208-eecd-d2583ae7a651"
      },
      "execution_count": null,
      "outputs": [
        {
          "output_type": "stream",
          "name": "stdout",
          "text": [
            "2.5189999999999997\n",
            "2.58\n",
            "2.4640000000000004\n",
            "2.521\n",
            "2.867\n"
          ]
        }
      ]
    },
    {
      "cell_type": "code",
      "source": [
        "#inputs weights for 3rd layer\n",
        "\n",
        "w46 = 0.3\n",
        "w47 = 0.1\n",
        "w48 = 0.4\n",
        "w49 = 0.5\n",
        "w50 = 0.2\n",
        "\n",
        "#input weights\n",
        "\n",
        "w51 = 0.1\n",
        "w52 = 0.2\n",
        "w53 = 1\n",
        "w54 = 0.4\n",
        "w55 = 0.7\n",
        "\n",
        "#input weigts\n",
        "\n",
        "w56= 0.2\n",
        "w57 = 2\n",
        "w58 = 0.7\n",
        "w59 = 0.2\n",
        "w60 = 0.4\n",
        "\n",
        "#input for next\n",
        "\n",
        "w61= 0.1\n",
        "w62= 0.2\n",
        "w63= 0.33\n",
        "w64= 0.4\n",
        "w65= 0.6\n",
        "\n",
        "#inputs weihts for 5th neuron\n",
        "\n",
        "w66= 0.3\n",
        "w67= 0.4\n",
        "w68= 0.1\n",
        "w69= 0.3\n",
        "w70= 0.6\n",
        "\n",
        "l3_re1=(l2_re1*w46)+(l2_re2*w51)+(l2_re3*w56)+(l2_re4*w61)+(l2_re5*w66)\n",
        "print(l3_re1)\n",
        "\n",
        "l3_re2 = (l2_re1*w47)+(l2_re2*w52)+(l2_re3*w57)+(l2_re4*w62)+(l2_re5*w67)\n",
        "print(l3_re2)\n",
        "\n",
        "l3_re3 = (l2_re1*w48)+(l2_re2*w53)+(l2_re3*w58)+(l2_re4*w63)+(l2_re5*w68)\n",
        "print(l3_re3)\n",
        "\n",
        "l3_re4 = (l2_re1*w49)+(l2_re2*w54)+(l2_re3*w59)+(l2_re4*w64)+(l2_re5*w69)\n",
        "print(l3_re4)\n",
        "\n",
        "l3_re5 = (l2_re1*w50)+(l2_re2*w55)+(l2_re3*w60)+(l2_re4*w65)+(l2_re5*w70)\n",
        "print(l3_re5)\n"
      ],
      "metadata": {
        "colab": {
          "base_uri": "https://localhost:8080/"
        },
        "id": "jDFHY-y1e_GD",
        "outputId": "3abe3463-0f73-49dc-bbc7-e5ce82cd6250"
      },
      "execution_count": null,
      "outputs": [
        {
          "output_type": "stream",
          "name": "stdout",
          "text": [
            "2.6187\n",
            "7.346900000000001\n",
            "6.43103\n",
            "4.6528\n",
            "6.5282\n"
          ]
        }
      ]
    },
    {
      "cell_type": "code",
      "source": [
        "#inputs weights for 4th layer\n",
        "\n",
        "w71 = 0.4\n",
        "w72 = 0.6\n",
        "w73 = 0.8\n",
        "w74 = 0.1\n",
        "w75 = 0.4\n",
        "\n",
        "#input weights\n",
        "\n",
        "w76 = 0.3\n",
        "w77 = 0.2\n",
        "w78 = 0.5\n",
        "w79 = 0.7\n",
        "w80 = 0.3\n",
        "\n",
        "#input weigts\n",
        "\n",
        "w81= 0.1\n",
        "w82 = 0.4\n",
        "w83 = 0.5\n",
        "w84 = 0.2\n",
        "w85 = 0.8\n",
        "\n",
        "#input for next\n",
        "\n",
        "w86= 0.1\n",
        "w87= 0.4\n",
        "w88= 0.2\n",
        "w89= 0.4\n",
        "w90= 0.6\n",
        "\n",
        "#inputs weihts for 5th neuron\n",
        "\n",
        "w91= 0.1\n",
        "w92= 0.6\n",
        "w93= 0.2\n",
        "w94= 0.6\n",
        "w95= 0.2\n",
        "\n",
        "l4_re1=(l3_re1*w71)+(l3_re2*w76)+(l3_re3*w81)+(l3_re4*w86)+(l3_re5*w91)\n",
        "print(l4_re1)\n",
        "\n",
        "l4_re2 = (l3_re1*w72)+(l3_re2*w77)+(l3_re3*w82)+(l3_re4*w87)+(l3_re5*w92)\n",
        "print(l4_re2)\n",
        "\n",
        "l4_re3 = (l3_re1*w73)+(l3_re2*w78)+(l3_re3*w83)+(l3_re4*w88)+(l3_re5*w93)\n",
        "print(l4_re3)\n",
        "\n",
        "l4_re4 = (l3_re1*w74)+(l3_re2*w79)+(l3_re3*w84)+(l3_re4*w89)+(l3_re5*w94)\n",
        "print(l4_re4)\n",
        "\n",
        "l4_re5 = (l3_re1*w75)+(l3_re2*w80)+(l3_re3*w85)+(l3_re4*w90)+(l3_re5*w95)\n",
        "print(l4_re5)\n",
        "\n",
        "\n",
        "#weights for Output\n",
        "w_output1 = 0.3\n",
        "w_output2 = 0.4\n",
        "w_output3 = 0.6\n",
        "w_output4 = 0.1\n",
        "w_output5 = 0.7\n",
        "\n",
        "final_Output = (l3_re1*w_output1)+(l3_re2*w_output2)+(l3_re3*w_output3)+(l3_re4*w_output4)+(l3_re5*w_output5)\n",
        "\n",
        "print(\"Final Output :\",final_Output)"
      ],
      "metadata": {
        "colab": {
          "base_uri": "https://localhost:8080/"
        },
        "id": "kKzgCE2vik-A",
        "outputId": "288eea07-1d45-40fd-ed4e-3a533ae588cc"
      },
      "execution_count": null,
      "outputs": [
        {
          "output_type": "stream",
          "name": "stdout",
          "text": [
            "5.012753\n",
            "11.391052\n",
            "11.220125\n",
            "12.468945999999999\n",
            "12.493694\n",
            "Final Output : 12.618008\n"
          ]
        }
      ]
    },
    {
      "cell_type": "code",
      "source": [
        "import qrcode as qr\n",
        "img = qr.make(\"Hi Muhammad Yousaf\")\n",
        "img.save(\"Ai Engineer.png\")\n"
      ],
      "metadata": {
        "id": "fEuDDyvxGucs"
      },
      "execution_count": 3,
      "outputs": []
    }
  ]
}